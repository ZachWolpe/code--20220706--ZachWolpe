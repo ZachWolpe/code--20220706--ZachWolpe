{
 "cells": [
  {
   "cell_type": "markdown",
   "metadata": {},
   "source": [
    "# Scratchpad Environment\n",
    "\n",
    "Configured for fast testing implementations.\n",
    "\n",
    "----\n",
    "```\n",
    "author:             Zach Wolpe\n",
    "email:              zach.wolpe@medibio.com.au\n",
    "date:               05 July 2022\n",
    "reviewed:           n/a\n",
    "```\n",
    "----"
   ]
  },
  {
   "cell_type": "code",
   "execution_count": 13,
   "metadata": {},
   "outputs": [],
   "source": [
    "import pandas as pd\n",
    "import json\n",
    "\n",
    "input_data = [\n",
    "    {\"Gender\":  \"Male\",     \"HeightCm\": 171, \"WeightKg\": 96 },\n",
    "    { \"Gender\": \"Male\",     \"HeightCm\": 161, \"WeightKg\": 85 },\n",
    "    { \"Gender\": \"Male\",     \"HeightCm\": 180, \"WeightKg\": 77 },\n",
    "    { \"Gender\": \"Female\",   \"HeightCm\": 166, \"WeightKg\": 62},\n",
    "    {\"Gender\":  \"Female\",   \"HeightCm\": 150, \"WeightKg\": 70},\n",
    "    {\"Gender\":  \"Female\",   \"HeightCm\": 167, \"WeightKg\": 82}\n",
    "    ]\n",
    "input_data\n",
    "\n",
    "\n",
    "# store\n",
    "with open('data.json', 'w') as f:\n",
    "    json.dump(input_data, f)\n"
   ]
  },
  {
   "cell_type": "code",
   "execution_count": 2,
   "metadata": {},
   "outputs": [],
   "source": [
    "# packages\n",
    "from datetime import datetime\n",
    "import pandas as pd\n",
    "import numpy as np\n",
    "import pickle\n",
    "\n",
    "# modules\n",
    "from BMI_computation import *\n",
    "from tests import * "
   ]
  },
  {
   "cell_type": "code",
   "execution_count": 20,
   "metadata": {},
   "outputs": [
    {
     "data": {
      "text/plain": [
       "'2.0.9'"
      ]
     },
     "execution_count": 20,
     "metadata": {},
     "output_type": "execute_result"
    }
   ],
   "source": [
    "json.__version__"
   ]
  },
  {
   "cell_type": "code",
   "execution_count": 3,
   "metadata": {},
   "outputs": [
    {
     "name": "stdout",
     "output_type": "stream",
     "text": [
      "failed to parse entry at index: 6\n",
      "Exception: 'set' object is not subscriptable\n"
     ]
    }
   ],
   "source": [
    "t = tests(input_data)\n",
    "t.test_entries()\n",
    "t.test_datatypes()\n",
    "t.correct_idx()\n",
    "t.filter_data()"
   ]
  },
  {
   "cell_type": "code",
   "execution_count": 4,
   "metadata": {},
   "outputs": [
    {
     "name": "stdout",
     "output_type": "stream",
     "text": [
      "---------------------------------------------------------------------------------------------------++\n",
      "Execution BMI computation\n",
      "Executed successfully.\n",
      "Saved successfully.\n",
      "Runtime: 0:00:00.539026\n",
      "---------------------------------------------------------------------------------------------------++\n"
     ]
    },
    {
     "data": {
      "text/plain": [
       "<BMI_computation.BMI_computation at 0x113b1a880>"
      ]
     },
     "execution_count": 4,
     "metadata": {},
     "output_type": "execute_result"
    },
    {
     "data": {
      "image/png": "[encoded data removed]",
      "text/plain": [
       "<Figure size 432x288 with 1 Axes>"
      ]
     },
     "metadata": {
      "needs_background": "light"
     },
     "output_type": "display_data"
    }
   ],
   "source": [
    "BMI_computation(t.filtered_data)"
   ]
  },
  {
   "cell_type": "code",
   "execution_count": null,
   "metadata": {},
   "outputs": [],
   "source": []
  },
  {
   "cell_type": "markdown",
   "metadata": {},
   "source": [
    "----\n",
    "# Rough Work\n",
    "----\n",
    "\n",
    "# Unit tests & Expectations\n",
    "- check the data input\n",
    "- store a list of indices of incorrect inputs\n",
    "- store a list of indices of data the violates expectations"
   ]
  },
  {
   "cell_type": "code",
   "execution_count": 68,
   "metadata": {},
   "outputs": [],
   "source": [
    "import numpy as np"
   ]
  },
  {
   "cell_type": "code",
   "execution_count": 127,
   "metadata": {},
   "outputs": [],
   "source": [
    "\n",
    "class tests:\n",
    "    def __init__(self, data, expected_cols=['Gender', 'HeightCm', 'WeightKg']):\n",
    "        self.data               = data\n",
    "        self.expected_cols      = expected_cols\n",
    "        self.correct_columns    = [True for _ in range(len(data))]\n",
    "        self.correct_dtypes     = [True for _ in range(len(data))]\n",
    "        self.idx                = None\n",
    "\n",
    "    def test_entries(self):\n",
    "        idx = []\n",
    "        for d in self.data:\n",
    "            x = np.mean([c in d for c in self.expected_cols]) == 1\n",
    "            idx.append(x)\n",
    "        self.correct_columns = idx\n",
    "        \n",
    "\n",
    "    def test_datatypes(self, expected_types=[str, int, int]):\n",
    "        idx = []\n",
    "        for i, d in enumerate(self.data):\n",
    "            try:\n",
    "                x = np.mean([isinstance(d[c], e) for c,e in zip(self.expected_cols, expected_types)]) == 1\n",
    "                idx.append(x)\n",
    "            except Exception as e:\n",
    "                print(f'failed to parse entry at index: {i}')\n",
    "                print('Exception:', e)\n",
    "                idx.append(False)\n",
    "        self.correct_dtypes = idx\n",
    "\n",
    "    def correct_idx(self):\n",
    "        self.idx = [i and j for i,j in zip(self.correct_columns, self.correct_dtypes)]\n",
    "\n",
    "    def filter_data(self):\n",
    "        self.filtered_data = [d for d,i in zip(self.data, self.idx) if i]\n",
    "\n",
    "        "
   ]
  },
  {
   "cell_type": "code",
   "execution_count": 130,
   "metadata": {},
   "outputs": [
    {
     "name": "stdout",
     "output_type": "stream",
     "text": [
      "failed to parse entry at index: 6\n",
      "Exception: 'set' object is not subscriptable\n"
     ]
    },
    {
     "data": {
      "text/plain": [
       "[{'Gender': 'Male', 'HeightCm': 171, 'WeightKg': 96},\n",
       " {'Gender': 'Male', 'HeightCm': 161, 'WeightKg': 85},\n",
       " {'Gender': 'Male', 'HeightCm': 180, 'WeightKg': 77},\n",
       " {'Gender': 'Female', 'HeightCm': 166, 'WeightKg': 62},\n",
       " {'Gender': 'Female', 'HeightCm': 150, 'WeightKg': 70},\n",
       " {'Gender': 'Female', 'HeightCm': 167, 'WeightKg': 82}]"
      ]
     },
     "execution_count": 130,
     "metadata": {},
     "output_type": "execute_result"
    }
   ],
   "source": [
    "t = tests(input_data)\n",
    "t.test_entries()\n",
    "t.test_datatypes()\n",
    "t.correct_idx()\n",
    "t.filter_data()\n",
    "t.filtered_data"
   ]
  },
  {
   "cell_type": "code",
   "execution_count": null,
   "metadata": {},
   "outputs": [],
   "source": [
    "import pickle\n",
    "from datetime import datetime\n",
    "\n",
    "class BMI_computation:\n",
    "    def __init__(self, data, prints=True):\n",
    "        \n",
    "        # Hyperparameters ----------------------------------------------------------------------------------------++\n",
    "        self.data           = data\n",
    "        self.start_time     = datetime.now()\n",
    "        self.BMI_categories = {\n",
    "        18.4:   {'BMI Category':'Underweight',              'Health risk':'Malnutrition risk'},\n",
    "        24.9:   {'BMI Category':'Normal weight',            'Health risk':'Low risk'},\n",
    "        29.9:   {'BMI Category':'Overweight',               'Health risk':'Enhanced risk'},\n",
    "        34.9:   {'BMI Category':'Moderately obese',         'Health risk':'Medium risk'},\n",
    "        39.9:   {'BMI Category':'Severly obese',            'Health risk':'High risk'},\n",
    "        999999: {'BMI Category':'Very severely obese',      'Health risk':'Very high risk'}}\n",
    "        if prints:\n",
    "            print('---------------------------------------------------------------------------------------------------++')\n",
    "            print('Execution BMI computation')\n",
    "        # Hyperparameters ----------------------------------------------------------------------------------------++\n",
    "\n",
    "        # Execute ------------------------------------------------------------------------------------------------++\n",
    "        try:\n",
    "            mp  = list(map(self.compute_BMI, enumerate(self.data)))\n",
    "            mp  = [m for m in mp if m is not None]\n",
    "            df  = pd.DataFrame(mp)\n",
    "            fig = df.plot(kind='hist', title='Health distribution').get_figure()\n",
    "            if prints:\n",
    "                print('Executed successfully.')\n",
    "        except Exception as e:\n",
    "            print('failed to execute module.')\n",
    "            print(f'Exception: {e}')\n",
    "        # Execute ------------------------------------------------------------------------------------------------++\n",
    "\n",
    "        # Store --------------------------------------------------------------------------------------------------++\n",
    "        try:\n",
    "            fig.savefig('health_distribution.pdf')\n",
    "            df.to_csv('processed_dataframe.csv')\n",
    "            with open('processed_data.pkl', 'wb') as f:\n",
    "                pickle.dump(mp, f)\n",
    "            self.end_time = datetime.now()\n",
    "            if prints:\n",
    "                print('Saved successfully.')\n",
    "                print('Runtime: {}'.format(self.end_time - self.start_time))\n",
    "                print('---------------------------------------------------------------------------------------------------++')\n",
    "        except Exception as e:\n",
    "            print('failed to save module.')\n",
    "            print(f'Exception: {e}')\n",
    "\n",
    "\n",
    "        # Store --------------------------------------------------------------------------------------------------++\n",
    "\n",
    "    def switcher(self, bmi):\n",
    "        for key,val in self.BMI_categories.items():\n",
    "            if bmi <= key:\n",
    "                return val['BMI Category'], val['Health risk']\n",
    "            \n",
    "\n",
    "    def compute_BMI(self,i,d):\n",
    "        bmi                         = d['WeightKg']/((d['HeightCm']/100)**2)\n",
    "        bmi_category, health_risk   = switcher(bmi)\n",
    "        return i, bmi, bmi_category, health_risk\n",
    "\n",
    "    def compute_BMI(self, id):\n",
    "        try:\n",
    "            i, d                        = id\n",
    "            result                      = d.copy()\n",
    "            bmi                         = d['WeightKg']/((d['HeightCm']/100)**2)\n",
    "            bmi_category, health_risk   = switcher(bmi)\n",
    "            result['BMI']               = bmi\n",
    "            result['BMI Categories']    = bmi_category\n",
    "            result['Health risk']       = health_risk\n",
    "            return result\n",
    "        except:\n",
    "            print(f'failed to parse entry at index: {i}')\n",
    "            return None"
   ]
  },
  {
   "cell_type": "code",
   "execution_count": null,
   "metadata": {},
   "outputs": [],
   "source": []
  },
  {
   "cell_type": "code",
   "execution_count": null,
   "metadata": {},
   "outputs": [],
   "source": []
  },
  {
   "cell_type": "code",
   "execution_count": null,
   "metadata": {},
   "outputs": [],
   "source": []
  },
  {
   "cell_type": "code",
   "execution_count": 13,
   "metadata": {},
   "outputs": [],
   "source": [
    "BMI_categories = {\n",
    "    18.4:   {'BMI Category':'Underweight',              'Health risk':'Malnutrition risk'},\n",
    "    24.9:   {'BMI Category':'Normal weight',            'Health risk':'Low risk'},\n",
    "    29.9:   {'BMI Category':'Overweight',               'Health risk':'Enhanced risk'},\n",
    "    34.9:   {'BMI Category':'Moderately obese',         'Health risk':'Medium risk'},\n",
    "    39.9:   {'BMI Category':'Severly obese',            'Health risk':'High risk'},\n",
    "    999999: {'BMI Category':'Very severely obese',      'Health risk':'Very high risk'},\n",
    "}\n",
    "\n",
    "\n",
    "def switcher(bmi, BMI_categories=BMI_categories):\n",
    "    for key,val in BMI_categories.items():\n",
    "        if bmi <= key:\n",
    "            return val['BMI Category'], val['Health risk']\n",
    "            \n",
    "\n",
    "def compute_BMI(i,d):\n",
    "    bmi                         = d['WeightKg']/((d['HeightCm']/100)**2)\n",
    "    bmi_category, health_risk   = switcher(bmi)\n",
    "    return i, bmi, bmi_category, health_risk\n"
   ]
  },
  {
   "cell_type": "code",
   "execution_count": 19,
   "metadata": {},
   "outputs": [
    {
     "name": "stdout",
     "output_type": "stream",
     "text": [
      "failed to parse entry at index: 6\n"
     ]
    }
   ],
   "source": [
    "def compute_BMI(id):\n",
    "    try:\n",
    "        i, d                        = id\n",
    "        result                      = d.copy()\n",
    "        bmi                         = d['WeightKg']/((d['HeightCm']/100)**2)\n",
    "        bmi_category, health_risk   = switcher(bmi)\n",
    "        result['BMI']               = bmi\n",
    "        result['BMI Categories']    = bmi_category\n",
    "        result['Health risk']       = health_risk\n",
    "        return result\n",
    "    except:\n",
    "        print(f'failed to parse entry at index: {i}')\n",
    "        return None\n",
    "        \n",
    "\n",
    "\n",
    "mp = list(map(compute_BMI, enumerate(input_data)))\n",
    "mp = [m for m in mp if m is not None]\n",
    "# mp"
   ]
  },
  {
   "cell_type": "code",
   "execution_count": 20,
   "metadata": {},
   "outputs": [
    {
     "data": {
      "text/html": [
       "<div>\n",
       "<style scoped>\n",
       "    .dataframe tbody tr th:only-of-type {\n",
       "        vertical-align: middle;\n",
       "    }\n",
       "\n",
       "    .dataframe tbody tr th {\n",
       "        vertical-align: top;\n",
       "    }\n",
       "\n",
       "    .dataframe thead th {\n",
       "        text-align: right;\n",
       "    }\n",
       "</style>\n",
       "<table border=\"1\" class=\"dataframe\">\n",
       "  <thead>\n",
       "    <tr style=\"text-align: right;\">\n",
       "      <th></th>\n",
       "      <th>Gender</th>\n",
       "      <th>HeightCm</th>\n",
       "      <th>WeightKg</th>\n",
       "      <th>BMI</th>\n",
       "      <th>BMI Category</th>\n",
       "      <th>Health risk</th>\n",
       "      <th>BMI Categories</th>\n",
       "    </tr>\n",
       "  </thead>\n",
       "  <tbody>\n",
       "    <tr>\n",
       "      <th>0</th>\n",
       "      <td>Male</td>\n",
       "      <td>171</td>\n",
       "      <td>96</td>\n",
       "      <td>32.830615</td>\n",
       "      <td>Moderately obese</td>\n",
       "      <td>Medium risk</td>\n",
       "      <td>Moderately obese</td>\n",
       "    </tr>\n",
       "    <tr>\n",
       "      <th>1</th>\n",
       "      <td>Male</td>\n",
       "      <td>161</td>\n",
       "      <td>85</td>\n",
       "      <td>32.791945</td>\n",
       "      <td>Moderately obese</td>\n",
       "      <td>Medium risk</td>\n",
       "      <td>Moderately obese</td>\n",
       "    </tr>\n",
       "    <tr>\n",
       "      <th>2</th>\n",
       "      <td>Male</td>\n",
       "      <td>180</td>\n",
       "      <td>77</td>\n",
       "      <td>23.765432</td>\n",
       "      <td>Normal weight</td>\n",
       "      <td>Low risk</td>\n",
       "      <td>Normal weight</td>\n",
       "    </tr>\n",
       "    <tr>\n",
       "      <th>3</th>\n",
       "      <td>Female</td>\n",
       "      <td>166</td>\n",
       "      <td>62</td>\n",
       "      <td>22.499637</td>\n",
       "      <td>Normal weight</td>\n",
       "      <td>Low risk</td>\n",
       "      <td>Normal weight</td>\n",
       "    </tr>\n",
       "    <tr>\n",
       "      <th>4</th>\n",
       "      <td>Female</td>\n",
       "      <td>150</td>\n",
       "      <td>70</td>\n",
       "      <td>31.111111</td>\n",
       "      <td>Moderately obese</td>\n",
       "      <td>Medium risk</td>\n",
       "      <td>Moderately obese</td>\n",
       "    </tr>\n",
       "    <tr>\n",
       "      <th>5</th>\n",
       "      <td>Female</td>\n",
       "      <td>167</td>\n",
       "      <td>82</td>\n",
       "      <td>29.402273</td>\n",
       "      <td>Overweight</td>\n",
       "      <td>Enhanced risk</td>\n",
       "      <td>Overweight</td>\n",
       "    </tr>\n",
       "  </tbody>\n",
       "</table>\n",
       "</div>"
      ],
      "text/plain": [
       "   Gender  HeightCm  WeightKg        BMI      BMI Category    Health risk  \\\n",
       "0    Male       171        96  32.830615  Moderately obese    Medium risk   \n",
       "1    Male       161        85  32.791945  Moderately obese    Medium risk   \n",
       "2    Male       180        77  23.765432     Normal weight       Low risk   \n",
       "3  Female       166        62  22.499637     Normal weight       Low risk   \n",
       "4  Female       150        70  31.111111  Moderately obese    Medium risk   \n",
       "5  Female       167        82  29.402273        Overweight  Enhanced risk   \n",
       "\n",
       "     BMI Categories  \n",
       "0  Moderately obese  \n",
       "1  Moderately obese  \n",
       "2     Normal weight  \n",
       "3     Normal weight  \n",
       "4  Moderately obese  \n",
       "5        Overweight  "
      ]
     },
     "execution_count": 20,
     "metadata": {},
     "output_type": "execute_result"
    }
   ],
   "source": [
    "df = pd.DataFrame(mp)\n",
    "\n",
    "# sum(df['BMI Categories'] == 'Overweight')"
   ]
  },
  {
   "cell_type": "code",
   "execution_count": 33,
   "metadata": {},
   "outputs": [
    {
     "data": {
      "image/png": "[encoded data removed]",
      "text/plain": [
       "<Figure size 432x288 with 1 Axes>"
      ]
     },
     "metadata": {
      "needs_background": "light"
     },
     "output_type": "display_data"
    }
   ],
   "source": [
    "# import matplotlib as plt\n",
    "# df['BMI'].hist(bins=100, label='s')\n",
    "df = pd.DataFrame(mp)\n",
    "fig = df.plot(kind='hist', title='Health distribution').get_figure()\n",
    "fig.savefig('health_distribution.pdf')"
   ]
  },
  {
   "cell_type": "code",
   "execution_count": null,
   "metadata": {},
   "outputs": [],
   "source": [
    "\n",
    "\n"
   ]
  },
  {
   "cell_type": "code",
   "execution_count": null,
   "metadata": {},
   "outputs": [],
   "source": [
    "\n"
   ]
  },
  {
   "cell_type": "code",
   "execution_count": 17,
   "metadata": {},
   "outputs": [
    {
     "data": {
      "text/plain": [
       "24.489795918367346"
      ]
     },
     "execution_count": 17,
     "metadata": {},
     "output_type": "execute_result"
    }
   ],
   "source": []
  },
  {
   "cell_type": "code",
   "execution_count": null,
   "metadata": {},
   "outputs": [],
   "source": []
  }
 ],
 "metadata": {
  "kernelspec": {
   "display_name": "Python ('hipercog')",
   "language": "python",
   "name": "python3"
  },
  "language_info": {
   "codemirror_mode": {
    "name": "ipython",
    "version": 3
   },
   "file_extension": ".py",
   "mimetype": "text/x-python",
   "name": "python",
   "nbconvert_exporter": "python",
   "pygments_lexer": "ipython3",
   "version": "3.9.13"
  },
  "orig_nbformat": 4,
  "vscode": {
   "interpreter": {
    "hash": "499ade56b48b11342a6d867619c791c628f90c2104c58bc97832364da1843f8a"
   }
  }
 },
 "nbformat": 4,
 "nbformat_minor": 2
}
